{
 "cells": [
  {
   "cell_type": "markdown",
   "metadata": {},
   "source": [
    "### Trading bot for Uniswap\n",
    "\n",
    "saturnbot is a fork of https://github.com/alexdziarn/uniswapTradingBotKIF\n",
    "    \n",
    "    \n",
    "    \n",
    "WIP"
   ]
  },
  {
   "cell_type": "markdown",
   "metadata": {},
   "source": [
    "[![nbviewer](https://img.shields.io/badge/view%20on-nbviewer-brightgreen.svg)](https://nbviewer.jupyter.org/github/AmisDEX/uniswapTradingBotKIF/blob/master/UniswapTradinBot.ipynb)\n"
   ]
  },
  {
   "cell_type": "code",
   "execution_count": 19,
   "metadata": {},
   "outputs": [
    {
     "name": "stdout",
     "output_type": "stream",
     "text": [
      "linux\n"
     ]
    }
   ],
   "source": [
    "import sys\n",
    "print(sys.platform)"
   ]
  },
  {
   "cell_type": "code",
   "execution_count": null,
   "metadata": {},
   "outputs": [],
   "source": [
    "!pip install pandas"
   ]
  },
  {
   "cell_type": "code",
   "execution_count": null,
   "metadata": {},
   "outputs": [],
   "source": [
    "!pip install jsonschema==2.6.0"
   ]
  },
  {
   "cell_type": "code",
   "execution_count": null,
   "metadata": {},
   "outputs": [],
   "source": [
    "!pip install ecdsa==0.14.1\n",
    "!pip install eth-abi==2.1.0\n",
    "!pip install eth-account==0.4.0\n",
    "!pip install eth-hash==0.2.0\n",
    "!pip install eth-keyfile==0.5.1\n",
    "!pip install eth-keys==0.2.4\n",
    "!pip install eth-rlp==0.1.2\n",
    "!pip install eth-typing==2.2.1\n",
    "!pip install eth-utils==1.8.4\n",
    "!pip install ethereum==2.3.2\n",
    "!pip install web3==5.0.0b4"
   ]
  },
  {
   "cell_type": "code",
   "execution_count": null,
   "metadata": {},
   "outputs": [],
   "source": [
    "#!pip install git+https://github.com/AmisDEX/uniswapTradingBotKIF.git\n",
    "#!pip install etherdelta\n",
    "#!pip install erc20token"
   ]
  },
  {
   "cell_type": "code",
   "execution_count": null,
   "metadata": {},
   "outputs": [],
   "source": [
    "#!pip install jsonschema\n",
    "#!pip install git+https://github.com/aleaxit/gmpy.git@gmpy2-2.1.0a0\n",
    "\n",
    "!pip list"
   ]
  },
  {
   "cell_type": "code",
   "execution_count": 21,
   "metadata": {},
   "outputs": [
    {
     "name": "stdout",
     "output_type": "stream",
     "text": [
      "\n"
     ]
    }
   ],
   "source": [
    "%ls\n"
   ]
  },
  {
   "cell_type": "code",
   "execution_count": 22,
   "metadata": {},
   "outputs": [],
   "source": [
    "from   import  "
   ]
  },
  {
   "cell_type": "code",
   "execution_count": 42,
   "metadata": {},
   "outputs": [],
   "source": [
    "#from  import \n",
    "#import erc20token \n",
    "#import json\n",
    "\n",
    "# Init SDK without a private key (for generic blockchain queries)\n",
    "#token_sdk = erc20token.SDK(provider_endpoint_uri='https://rpc.xdaichain.com', contract_address='0x04f72aa40046c5fb3b143aaba3ab64d1a82410a7', contract_abi=json.loads(contract_abi))\n"
   ]
  },
  {
   "cell_type": "code",
   "execution_count": null,
   "metadata": {},
   "outputs": [],
   "source": []
  },
  {
   "cell_type": "code",
   "execution_count": null,
   "metadata": {},
   "outputs": [],
   "source": []
  }
 ],
 "metadata": {
  "kernelspec": {
   "display_name": "Python 3",
   "language": "python",
   "name": "python3"
  },
  "language_info": {
   "codemirror_mode": {
    "name": "ipython",
    "version": 3
   },
   "file_extension": ".py",
   "mimetype": "text/x-python",
   "name": "python",
   "nbconvert_exporter": "python",
   "pygments_lexer": "ipython3",
   "version": "3.9.1"
  }
 },
 "nbformat": 4,
 "nbformat_minor": 2
}
